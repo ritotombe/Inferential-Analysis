{
 "cells": [
  {
   "cell_type": "markdown",
   "metadata": {},
   "source": [
    "# Inferential Statistic\n",
    "\n",
    "This report will investigate the [Stroop Effect](https://en.wikipedia.org/wiki/Stroop_effect), by attempting to answer the questions that were provided below. However, this report will based on the data provided by Udacity, which contains the text color naming duration in the two settings (congruent task *E1* and incongruent task *E2*). \n",
    "\n",
    "*1. What is our independent variable? What is our dependent variable?*\n",
    "\n",
    "As the data contains only the duration of each experiments; thus, the **dependent variable** will be the **each task per**. In the other hand, the **independent variable** will be the **experiment itself (the color of the text)**.\n",
    "\n",
    "*2. What is an appropriate set of hypotheses for this task? What kind of statistical test do you expect to perform? Justify your choices.*\n",
    "\n",
    "As for I want to see whether the average duration of *E2* ($\\mu_2$) will be larger than average duration of *E1* ($\\mu_1$), which indicating that *E2* will need longer time to be interpreted. Thus, I construct the hypotheses:\n",
    "\n",
    "$$H_0: \\mu_2-\\mu_1 \\leq 0$$\n",
    "$$H_a: \\mu_2-\\mu_1 > 0$$\n",
    "\n",
    "Consequently, I intend to conduct a one-tail *t* test ($\\alpha = .05$) as there is no population parameters known in this case. \n",
    "\n",
    "Now it’s your chance to try out the Stroop task for yourself. Go to this link, which has a Java-based applet for performing the Stroop task. Record the times that you received on the task (you do not need to submit your times to the site.) Now, download this dataset which contains results from a number of participants in the task. Each row of the dataset contains the performance for one participant, with the first number their results on the congruent task and the second number their performance on the incongruent task.\n",
    "\n",
    "3. Report some descriptive statistics regarding this dataset. Include at least one measure of central tendency and at least one measure of variability.\n",
    "\n",
    "4. Provide one or two visualizations that show the distribution of the sample data. Write one or two sentences noting what you observe about the plot or plots.\n",
    "\n",
    "5. Now, perform the statistical test and report your results. What is your confidence level and your critical statistic value? Do you reject the null hypothesis or fail to reject it? Come to a conclusion in terms of the experiment task. Did the results match up with your expectations?\n",
    "\n",
    "6. Optional: What do you think is responsible for the effects observed? Can you think of an alternative or similar task that would result in a similar effect? Some research about the problem will be helpful for thinking about these two questions!"
   ]
  },
  {
   "cell_type": "code",
   "execution_count": null,
   "metadata": {
    "collapsed": true
   },
   "outputs": [],
   "source": []
  },
  {
   "cell_type": "code",
   "execution_count": null,
   "metadata": {
    "collapsed": true
   },
   "outputs": [],
   "source": []
  },
  {
   "cell_type": "code",
   "execution_count": null,
   "metadata": {
    "collapsed": true
   },
   "outputs": [],
   "source": []
  }
 ],
 "metadata": {
  "kernelspec": {
   "display_name": "Python 3",
   "language": "python",
   "name": "python3"
  },
  "language_info": {
   "codemirror_mode": {
    "name": "ipython",
    "version": 3
   },
   "file_extension": ".py",
   "mimetype": "text/x-python",
   "name": "python",
   "nbconvert_exporter": "python",
   "pygments_lexer": "ipython3",
   "version": "3.6.1"
  }
 },
 "nbformat": 4,
 "nbformat_minor": 2
}
